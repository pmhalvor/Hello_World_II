{
 "cells": [
  {
   "cell_type": "code",
   "execution_count": 23,
   "metadata": {},
   "outputs": [],
   "source": [
    "import requests as r\n",
    "import numpy as np\n",
    "import pandas as pd\n",
    "import matplotlib.pyplot\n",
    "import json\n",
    "from bs4 import BeautifulSoup\n",
    "import re\n",
    "from tqdm import tqdm"
   ]
  },
  {
   "cell_type": "markdown",
   "metadata": {},
   "source": [
    "# Scrap data from [lavkarbo.no](lavkarbo.no)"
   ]
  },
  {
   "cell_type": "code",
   "execution_count": 2,
   "metadata": {},
   "outputs": [],
   "source": [
    "rootpage = 'https://www.lavkarbo.no/'\n",
    "\n",
    "# CATEGORIES\n",
    "cat_ext = 'matvaretabell'\n",
    "r_cat = r.get(rootpage + cat_ext)"
   ]
  },
  {
   "cell_type": "code",
   "execution_count": 3,
   "metadata": {},
   "outputs": [],
   "source": [
    "soup = BeautifulSoup(r_cat.content, 'html.parser')"
   ]
  },
  {
   "cell_type": "code",
   "execution_count": 56,
   "metadata": {},
   "outputs": [],
   "source": [
    "list_items = soup.find_all('li')"
   ]
  },
  {
   "cell_type": "code",
   "execution_count": 57,
   "metadata": {},
   "outputs": [],
   "source": [
    "categories = [l.get('href') for l in soup.find_all('a') if l.get('href')[:4] != 'http']"
   ]
  },
  {
   "cell_type": "code",
   "execution_count": 58,
   "metadata": {},
   "outputs": [
    {
     "data": {
      "text/plain": [
       "['/matvaretabell/melk-og-melkeprodukter',\n",
       " '/matvaretabell/egg',\n",
       " '/matvaretabell/fjoerfe-og-kjoett',\n",
       " '/matvaretabell/fisk-og-skalldyr',\n",
       " '/matvaretabell/korn-og-bakevarer-froe-og-noetter',\n",
       " '/matvaretabell/poteter-groennsaker-frukt-og-baer',\n",
       " '/matvaretabell/sukker-og-soete-produkter',\n",
       " '/matvaretabell/margarin-smoer-matolje-ol',\n",
       " '/matvaretabell/drikke',\n",
       " '/matvaretabell/spedbarnsmat',\n",
       " '/matvaretabell/diverse-retter-produkter-og-ingredienser']"
      ]
     },
     "execution_count": 58,
     "metadata": {},
     "output_type": "execute_result"
    }
   ],
   "source": [
    "categories"
   ]
  },
  {
   "cell_type": "code",
   "execution_count": 59,
   "metadata": {},
   "outputs": [],
   "source": [
    "milk = categories[0]"
   ]
  },
  {
   "cell_type": "code",
   "execution_count": 60,
   "metadata": {},
   "outputs": [],
   "source": [
    "\"\"\"you should build a pipeline for this\"\"\"\n",
    "milk_page = r.get(rootpage + milk)"
   ]
  },
  {
   "cell_type": "code",
   "execution_count": 61,
   "metadata": {},
   "outputs": [],
   "source": [
    "milk_soup = BeautifulSoup(milk_page.content, 'html.parser')"
   ]
  },
  {
   "cell_type": "code",
   "execution_count": 62,
   "metadata": {},
   "outputs": [],
   "source": [
    "milk_tabels = milk_soup.find_all('table', 'foods-table')"
   ]
  },
  {
   "cell_type": "code",
   "execution_count": 64,
   "metadata": {},
   "outputs": [],
   "source": [
    "columns = [th.string for th in milk_soup.table.thead.find_all('th')]"
   ]
  },
  {
   "cell_type": "code",
   "execution_count": 65,
   "metadata": {},
   "outputs": [
    {
     "data": {
      "text/plain": [
       "['Navn', 'Protein', 'Karbo', 'Fett']"
      ]
     },
     "execution_count": 65,
     "metadata": {},
     "output_type": "execute_result"
    }
   ],
   "source": [
    "columns"
   ]
  },
  {
   "cell_type": "code",
   "execution_count": 66,
   "metadata": {},
   "outputs": [],
   "source": [
    "milk_data = []\n",
    "\n",
    "b = 1\n",
    "row = []\n",
    "for t in milk_soup.find_all('td'):\n",
    "    row.append(t.string)\n",
    "    \n",
    "    if b%4==0:\n",
    "        milk_data.append(row)\n",
    "        row = []\n",
    "\n",
    "    b += 1\n"
   ]
  },
  {
   "cell_type": "code",
   "execution_count": 67,
   "metadata": {},
   "outputs": [
    {
     "data": {
      "text/plain": [
       "[['Kakao, med lettmelk, tilberedt', '4,0g', '12g', '2,3g'],\n",
       " ['Lettmelk, 1,0 % fett', '3,5g', '4,6g', '1,0g'],\n",
       " ['Lettmelk, 0,5 % fett, med vitamin D', '3,5g', '4,6g', '0,50g']]"
      ]
     },
     "execution_count": 67,
     "metadata": {},
     "output_type": "execute_result"
    }
   ],
   "source": [
    "milk_data[:3]"
   ]
  },
  {
   "cell_type": "code",
   "execution_count": 68,
   "metadata": {},
   "outputs": [],
   "source": [
    "def cat_to_data(cat, root=rootpage):\n",
    "    page = r.get(rootpage + cat)\n",
    "    soup = BeautifulSoup(page.content, 'html.parser')\n",
    "    \n",
    "    columns = [th.string for th in milk_soup.table.thead.find_all('th')]\n",
    "    columns.insert(0, 'category')\n",
    "    \n",
    "    category = cat.split('/')[2].replace('-', ' ')\n",
    "    \n",
    "    data = []\n",
    "    b = 1\n",
    "    row = [category]\n",
    "    for t in soup.find_all('td'):\n",
    "        # sort decimals from names\n",
    "        if b == 1:\n",
    "            row.append(t.string)\n",
    "        else:\n",
    "            # convert string values to float\n",
    "            match = re.search(r'(?P<integer>\\d+)\\,(?P<decimal>\\d+)', t.string)\n",
    "            if not match:\n",
    "                match = re.search(r'(?P<integer>\\d+)', t.string)\n",
    "                row.append(float(match.group('integer')))\n",
    "            else:\n",
    "                row.append(float(match.group('integer')+'.'+match.group('decimal')))\n",
    "\n",
    "        if b%4==0:\n",
    "            data.append(row)\n",
    "            row = [category]\n",
    "            b = 0\n",
    "\n",
    "        b += 1\n",
    "    return pd.DataFrame(data, columns=columns)"
   ]
  },
  {
   "cell_type": "code",
   "execution_count": 69,
   "metadata": {},
   "outputs": [
    {
     "name": "stderr",
     "output_type": "stream",
     "text": [
      "100%|██████████████████████████████████████████| 11/11 [00:21<00:00,  1.92s/it]\n"
     ]
    }
   ],
   "source": [
    "data = pd.DataFrame()\n",
    "for c in tqdm(categories):\n",
    "    data = data.append(cat_to_data(c))"
   ]
  },
  {
   "cell_type": "code",
   "execution_count": 70,
   "metadata": {},
   "outputs": [
    {
     "data": {
      "text/plain": [
       "(1677, 5)"
      ]
     },
     "execution_count": 70,
     "metadata": {},
     "output_type": "execute_result"
    }
   ],
   "source": [
    "data.shape"
   ]
  },
  {
   "cell_type": "code",
   "execution_count": 26,
   "metadata": {},
   "outputs": [
    {
     "data": {
      "text/plain": [
       "Index(['category', 'Navn', 'Protein', 'Karbo', 'Fett'], dtype='object')"
      ]
     },
     "execution_count": 26,
     "metadata": {},
     "output_type": "execute_result"
    }
   ],
   "source": [
    "data.columns"
   ]
  },
  {
   "cell_type": "code",
   "execution_count": 31,
   "metadata": {},
   "outputs": [],
   "source": [
    "lavkarbo = pd.DataFrame(data[data['Karbo']<5.0])"
   ]
  },
  {
   "cell_type": "code",
   "execution_count": 28,
   "metadata": {},
   "outputs": [
    {
     "data": {
      "text/plain": [
       "array(['melk og melkeprodukter', 'egg', 'fjoerfe og kjoett',\n",
       "       'fisk og skalldyr', 'korn og bakevarer froe og noetter',\n",
       "       'poteter groennsaker frukt og baer', 'sukker og soete produkter',\n",
       "       'margarin smoer matolje ol', 'drikke',\n",
       "       'diverse retter produkter og ingredienser'], dtype=object)"
      ]
     },
     "execution_count": 28,
     "metadata": {},
     "output_type": "execute_result"
    }
   ],
   "source": [
    "pd.unique(data['category'])"
   ]
  },
  {
   "cell_type": "code",
   "execution_count": 32,
   "metadata": {},
   "outputs": [],
   "source": [
    "lavkarbo.rename(columns={'Navn':'text'}, inplace=True)"
   ]
  },
  {
   "cell_type": "code",
   "execution_count": 52,
   "metadata": {},
   "outputs": [
    {
     "data": {
      "text/html": [
       "<div>\n",
       "<style scoped>\n",
       "    .dataframe tbody tr th:only-of-type {\n",
       "        vertical-align: middle;\n",
       "    }\n",
       "\n",
       "    .dataframe tbody tr th {\n",
       "        vertical-align: top;\n",
       "    }\n",
       "\n",
       "    .dataframe thead th {\n",
       "        text-align: right;\n",
       "    }\n",
       "</style>\n",
       "<table border=\"1\" class=\"dataframe\">\n",
       "  <thead>\n",
       "    <tr style=\"text-align: right;\">\n",
       "      <th></th>\n",
       "      <th>category</th>\n",
       "      <th>text</th>\n",
       "      <th>Protein</th>\n",
       "      <th>Karbo</th>\n",
       "      <th>Fett</th>\n",
       "    </tr>\n",
       "  </thead>\n",
       "  <tbody>\n",
       "    <tr>\n",
       "      <th>1</th>\n",
       "      <td>melk og melkeprodukter</td>\n",
       "      <td>Lettmelk, 1,0 % fett</td>\n",
       "      <td>3.5</td>\n",
       "      <td>4.6</td>\n",
       "      <td>1.0</td>\n",
       "    </tr>\n",
       "    <tr>\n",
       "      <th>2</th>\n",
       "      <td>melk og melkeprodukter</td>\n",
       "      <td>Lettmelk, 0,5 % fett, med vitamin D</td>\n",
       "      <td>3.5</td>\n",
       "      <td>4.6</td>\n",
       "      <td>0.5</td>\n",
       "    </tr>\n",
       "    <tr>\n",
       "      <th>3</th>\n",
       "      <td>melk og melkeprodukter</td>\n",
       "      <td>Helmelk, 3,9 % fett</td>\n",
       "      <td>3.3</td>\n",
       "      <td>4.6</td>\n",
       "      <td>3.9</td>\n",
       "    </tr>\n",
       "    <tr>\n",
       "      <th>5</th>\n",
       "      <td>melk og melkeprodukter</td>\n",
       "      <td>Helmelk, 3,5 % fett</td>\n",
       "      <td>3.4</td>\n",
       "      <td>4.5</td>\n",
       "      <td>3.5</td>\n",
       "    </tr>\n",
       "    <tr>\n",
       "      <th>6</th>\n",
       "      <td>melk og melkeprodukter</td>\n",
       "      <td>Lettmelk, 1,2 % fett</td>\n",
       "      <td>3.5</td>\n",
       "      <td>4.5</td>\n",
       "      <td>1.2</td>\n",
       "    </tr>\n",
       "  </tbody>\n",
       "</table>\n",
       "</div>"
      ],
      "text/plain": [
       "                 category                                 text  Protein  \\\n",
       "1  melk og melkeprodukter                 Lettmelk, 1,0 % fett      3.5   \n",
       "2  melk og melkeprodukter  Lettmelk, 0,5 % fett, med vitamin D      3.5   \n",
       "3  melk og melkeprodukter                  Helmelk, 3,9 % fett      3.3   \n",
       "5  melk og melkeprodukter                  Helmelk, 3,5 % fett      3.4   \n",
       "6  melk og melkeprodukter                 Lettmelk, 1,2 % fett      3.5   \n",
       "\n",
       "   Karbo  Fett  \n",
       "1    4.6   1.0  \n",
       "2    4.6   0.5  \n",
       "3    4.6   3.9  \n",
       "5    4.5   3.5  \n",
       "6    4.5   1.2  "
      ]
     },
     "execution_count": 52,
     "metadata": {},
     "output_type": "execute_result"
    }
   ],
   "source": [
    "lavkarbo.head()"
   ]
  },
  {
   "cell_type": "markdown",
   "metadata": {},
   "source": [
    "# Translate to english"
   ]
  },
  {
   "cell_type": "code",
   "execution_count": 36,
   "metadata": {},
   "outputs": [],
   "source": [
    "from translate import translate"
   ]
  },
  {
   "cell_type": "code",
   "execution_count": 108,
   "metadata": {},
   "outputs": [],
   "source": [
    "def get_random_ingredients():\n",
    "    ingredienter = ''\n",
    "\n",
    "    for category in pd.unique(data['category']):\n",
    "        # ingredients = pd.DataFrame(lavkarbo[lavkarbo.category==category]['text']).to_dict('records')    \n",
    "        ingredienter += str(lavkarbo[lavkarbo.category==category].sample()['text'])[3:].split('\\n')[0]+'*'    # very ugly but works for now\n",
    "\n",
    "    ingredienter = ingredienter.replace(',', ' ')\n",
    "    ingredienter = ingredienter.replace('*', ',')\n",
    "\n",
    "    ingredients = translate(ingredienter)\n",
    "    return ingredients[0]['translations'][0]['text']  # also pretty ugly but will do for now"
   ]
  },
  {
   "cell_type": "code",
   "execution_count": 109,
   "metadata": {},
   "outputs": [
    {
     "data": {
      "text/plain": [
       "'    Normanna blue cheese, Scrambled eggs fried in fat, Pork thin rib with sworn raw, Snails canned, Flaxseed, Cauliflower cooked, Lozenges without sugar, Wheat germ oil, Mineral water with carbonated acid Olden, Salad Greek with feta cheese olives,'"
      ]
     },
     "execution_count": 109,
     "metadata": {},
     "output_type": "execute_result"
    }
   ],
   "source": [
    "get_random_ingredients()"
   ]
  },
  {
   "cell_type": "markdown",
   "metadata": {},
   "source": [
    "# Call Spoonacular API for recipe"
   ]
  },
  {
   "cell_type": "code",
   "execution_count": 110,
   "metadata": {},
   "outputs": [
    {
     "ename": "ImportError",
     "evalue": "cannot import name 'recipe' from 'recipe' (C:\\Users\\perha\\Desktop\\code\\Python\\Diet\\recipe.py)",
     "output_type": "error",
     "traceback": [
      "\u001b[1;31m---------------------------------------------------------------------------\u001b[0m",
      "\u001b[1;31mImportError\u001b[0m                               Traceback (most recent call last)",
      "\u001b[1;32m<ipython-input-110-f35e3bd45eda>\u001b[0m in \u001b[0;36m<module>\u001b[1;34m\u001b[0m\n\u001b[1;32m----> 1\u001b[1;33m \u001b[1;32mfrom\u001b[0m \u001b[0mrecipe\u001b[0m \u001b[1;32mimport\u001b[0m \u001b[0mrecipe\u001b[0m\u001b[1;33m\u001b[0m\u001b[1;33m\u001b[0m\u001b[0m\n\u001b[0m",
      "\u001b[1;31mImportError\u001b[0m: cannot import name 'recipe' from 'recipe' (C:\\Users\\perha\\Desktop\\code\\Python\\Diet\\recipe.py)"
     ]
    }
   ],
   "source": [
    "from recipe import get_recipe"
   ]
  },
  {
   "cell_type": "code",
   "execution_count": null,
   "metadata": {},
   "outputs": [],
   "source": []
  }
 ],
 "metadata": {
  "kernelspec": {
   "display_name": "Python 3",
   "language": "python",
   "name": "python3"
  },
  "language_info": {
   "codemirror_mode": {
    "name": "ipython",
    "version": 3
   },
   "file_extension": ".py",
   "mimetype": "text/x-python",
   "name": "python",
   "nbconvert_exporter": "python",
   "pygments_lexer": "ipython3",
   "version": "3.8.3"
  }
 },
 "nbformat": 4,
 "nbformat_minor": 4
}
